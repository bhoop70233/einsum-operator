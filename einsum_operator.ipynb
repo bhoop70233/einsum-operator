{
  "nbformat": 4,
  "nbformat_minor": 0,
  "metadata": {
    "colab": {
      "provenance": [],
      "gpuType": "T4",
      "authorship_tag": "ABX9TyNDx+RpzYxbzPMKHJgJ3381",
      "include_colab_link": true
    },
    "kernelspec": {
      "name": "python3",
      "display_name": "Python 3"
    },
    "language_info": {
      "name": "python"
    },
    "accelerator": "GPU"
  },
  "cells": [
    {
      "cell_type": "markdown",
      "metadata": {
        "id": "view-in-github",
        "colab_type": "text"
      },
      "source": [
        "<a href=\"https://colab.research.google.com/github/bhoop70233/einsum-operator/blob/main/einsum_operator.ipynb\" target=\"_parent\"><img src=\"https://colab.research.google.com/assets/colab-badge.svg\" alt=\"Open In Colab\"/></a>"
      ]
    },
    {
      "cell_type": "code",
      "execution_count": null,
      "metadata": {
        "id": "nen-8u5M7JfO"
      },
      "outputs": [],
      "source": []
    },
    {
      "cell_type": "markdown",
      "source": [
        "**[Deep Learning with TensorFlow2]**\n",
        "Einsum operator"
      ],
      "metadata": {
        "id": "EM8jKkpR7Re_"
      }
    },
    {
      "cell_type": "code",
      "source": [
        "import numpy as np"
      ],
      "metadata": {
        "id": "dus-yq1L7gkb"
      },
      "execution_count": 1,
      "outputs": []
    },
    {
      "cell_type": "code",
      "source": [],
      "metadata": {
        "id": "lGNvOZag7mdA"
      },
      "execution_count": null,
      "outputs": []
    },
    {
      "cell_type": "markdown",
      "source": [
        "What is Einstein Summation Convention ?\n",
        "\n",
        "Einstein summation is a convention for simplifying expression that includes summation of vectors, matrices or in general tensor. Remember scalar is zero rank tensor, vector is a rank one tensor and matrices are rank two tensors. Basically scalar, vectors and matrices are different forms of tensor based upon their rank."
      ],
      "metadata": {
        "id": "Bcs4iyi18yOH"
      }
    },
    {
      "cell_type": "code",
      "source": [
        "import numpy as np\n",
        "u = np.full((2,3),2)\n",
        "print (u)"
      ],
      "metadata": {
        "colab": {
          "base_uri": "https://localhost:8080/"
        },
        "id": "haFsmzaa81XX",
        "outputId": "7adffd61-fe82-4742-b774-d60d9271ff34"
      },
      "execution_count": 2,
      "outputs": [
        {
          "output_type": "stream",
          "name": "stdout",
          "text": [
            "[[2 2 2]\n",
            " [2 2 2]]\n"
          ]
        }
      ]
    },
    {
      "cell_type": "code",
      "source": [
        "print (np.einsum('ij->j',u))\n"
      ],
      "metadata": {
        "colab": {
          "base_uri": "https://localhost:8080/"
        },
        "id": "V1aOk1w187gI",
        "outputId": "7d71c79d-fe7f-411f-c75b-8104c2284f35"
      },
      "execution_count": 3,
      "outputs": [
        {
          "output_type": "stream",
          "name": "stdout",
          "text": [
            "[4 4 4]\n"
          ]
        }
      ]
    },
    {
      "cell_type": "code",
      "source": [
        "print (np.einsum('ij->i',u))\n"
      ],
      "metadata": {
        "colab": {
          "base_uri": "https://localhost:8080/"
        },
        "id": "BZS3VFIl8--A",
        "outputId": "c17edbd7-e27a-490e-ff32-9deed811fc6a"
      },
      "execution_count": 4,
      "outputs": [
        {
          "output_type": "stream",
          "name": "stdout",
          "text": [
            "[6 6]\n"
          ]
        }
      ]
    },
    {
      "cell_type": "code",
      "source": [
        "x = np.full((2,3),2)\n",
        "y = np.ones((3,4))\n",
        "#Here there are two operands 'x' and 'y' and with dimension (2,3) and #(3,4)\n",
        "\n",
        "#To write a einsum equation for this matrix - matrix multiplication\n",
        "#what we need\n",
        "print (np.einsum('ij,jk->ik',x,y))"
      ],
      "metadata": {
        "colab": {
          "base_uri": "https://localhost:8080/"
        },
        "id": "FaTBJgfR9B0Q",
        "outputId": "d694a1a7-9ac3-4847-b56b-440ec0dfea6c"
      },
      "execution_count": 6,
      "outputs": [
        {
          "output_type": "stream",
          "name": "stdout",
          "text": [
            "[[6. 6. 6. 6.]\n",
            " [6. 6. 6. 6.]]\n"
          ]
        }
      ]
    },
    {
      "cell_type": "code",
      "source": [
        "u = np.full((2,3),2)\n",
        "v = np.ones((3,4))\n",
        "#let's apply the rule #1\n",
        "w = np.einsum('ij,jk -> ijk',u,v)\n",
        "print (w.shape)\n",
        "print (w)"
      ],
      "metadata": {
        "colab": {
          "base_uri": "https://localhost:8080/"
        },
        "id": "B3GuBPbv9Gam",
        "outputId": "afabe034-481b-4867-964e-ff4d8f33fdb5"
      },
      "execution_count": 7,
      "outputs": [
        {
          "output_type": "stream",
          "name": "stdout",
          "text": [
            "(2, 3, 4)\n",
            "[[[2. 2. 2. 2.]\n",
            "  [2. 2. 2. 2.]\n",
            "  [2. 2. 2. 2.]]\n",
            "\n",
            " [[2. 2. 2. 2.]\n",
            "  [2. 2. 2. 2.]\n",
            "  [2. 2. 2. 2.]]]\n"
          ]
        }
      ]
    },
    {
      "cell_type": "code",
      "source": [
        "print (np.einsum('ijk -> ik',w))\n"
      ],
      "metadata": {
        "colab": {
          "base_uri": "https://localhost:8080/"
        },
        "id": "Akcs3CB19RZk",
        "outputId": "a0f03bdd-647d-45bf-db29-1bb6d9fadd17"
      },
      "execution_count": 8,
      "outputs": [
        {
          "output_type": "stream",
          "name": "stdout",
          "text": [
            "[[6. 6. 6. 6.]\n",
            " [6. 6. 6. 6.]]\n"
          ]
        }
      ]
    },
    {
      "cell_type": "code",
      "source": [
        "A = np.array([0, 1, 2])\n",
        "\n",
        "B = np.array([[ 0,  1,  2,  3],\n",
        "              [ 4,  5,  6,  7],\n",
        "              [ 8,  9, 10, 11]])"
      ],
      "metadata": {
        "id": "KyosjHRa9UO5"
      },
      "execution_count": 9,
      "outputs": []
    },
    {
      "cell_type": "code",
      "source": [
        "(A[:, np.newaxis] * B).sum(axis=1)\n",
        "array([ 0, 22, 76])"
      ],
      "metadata": {
        "colab": {
          "base_uri": "https://localhost:8080/",
          "height": 158
        },
        "id": "HDQEiD-A9cAX",
        "outputId": "04bead0f-b37d-4438-a668-319f43b668a2"
      },
      "execution_count": 12,
      "outputs": [
        {
          "output_type": "error",
          "ename": "NameError",
          "evalue": "name 'array' is not defined",
          "traceback": [
            "\u001b[0;31m---------------------------------------------------------------------------\u001b[0m",
            "\u001b[0;31mNameError\u001b[0m                                 Traceback (most recent call last)",
            "\u001b[0;32m<ipython-input-12-b135f094eb7b>\u001b[0m in \u001b[0;36m<cell line: 2>\u001b[0;34m()\u001b[0m\n\u001b[1;32m      1\u001b[0m \u001b[0;34m(\u001b[0m\u001b[0mA\u001b[0m\u001b[0;34m[\u001b[0m\u001b[0;34m:\u001b[0m\u001b[0;34m,\u001b[0m \u001b[0mnp\u001b[0m\u001b[0;34m.\u001b[0m\u001b[0mnewaxis\u001b[0m\u001b[0;34m]\u001b[0m \u001b[0;34m*\u001b[0m \u001b[0mB\u001b[0m\u001b[0;34m)\u001b[0m\u001b[0;34m.\u001b[0m\u001b[0msum\u001b[0m\u001b[0;34m(\u001b[0m\u001b[0maxis\u001b[0m\u001b[0;34m=\u001b[0m\u001b[0;36m1\u001b[0m\u001b[0;34m)\u001b[0m\u001b[0;34m\u001b[0m\u001b[0;34m\u001b[0m\u001b[0m\n\u001b[0;32m----> 2\u001b[0;31m \u001b[0marray\u001b[0m\u001b[0;34m(\u001b[0m\u001b[0;34m[\u001b[0m \u001b[0;36m0\u001b[0m\u001b[0;34m,\u001b[0m \u001b[0;36m22\u001b[0m\u001b[0;34m,\u001b[0m \u001b[0;36m76\u001b[0m\u001b[0;34m]\u001b[0m\u001b[0;34m)\u001b[0m\u001b[0;34m\u001b[0m\u001b[0;34m\u001b[0m\u001b[0m\n\u001b[0m",
            "\u001b[0;31mNameError\u001b[0m: name 'array' is not defined"
          ]
        }
      ]
    },
    {
      "cell_type": "code",
      "source": [
        "import numpy as np"
      ],
      "metadata": {
        "id": "uzdMtxya9mTU"
      },
      "execution_count": 11,
      "outputs": []
    },
    {
      "cell_type": "code",
      "source": [
        "import numpy as np\n",
        "\n",
        "x = np.full((2,3),2)\n",
        "y = np.ones((3,4))\n",
        "\n",
        "# Print the result of matrix-matrix multiplication\n",
        "print(np.einsum('ij,jk->ik', x, y))\n",
        "\n",
        "# Apply rule #1 and print the shape and values of the resulting array\n",
        "u = np.full((2,3),2)\n",
        "v = np.ones((3,4))\n",
        "w = np.einsum('ij,jk -> ijk', u, v)\n",
        "print(w.shape)\n",
        "print(w)\n",
        "\n",
        "# Print the result of collapsing the array along the specified axis\n",
        "print(np.einsum('ijk -> ik', w))\n",
        "\n",
        "# Define arrays A and B\n",
        "A = np.array([0, 1, 2])\n",
        "B = np.array([[ 0,  1,  2,  3],\n",
        "              [ 4,  5,  6,  7],\n",
        "              [ 8,  9, 10, 11]])\n",
        "\n",
        "# Calculate the desired result using broadcasting and sum\n",
        "print((A[:, np.newaxis] * B).sum(axis=1))"
      ],
      "metadata": {
        "colab": {
          "base_uri": "https://localhost:8080/"
        },
        "id": "SLgWdYvh9fNG",
        "outputId": "619a7d2a-ecaf-4071-d39e-4c3d60375a9a"
      },
      "execution_count": 13,
      "outputs": [
        {
          "output_type": "stream",
          "name": "stdout",
          "text": [
            "[[6. 6. 6. 6.]\n",
            " [6. 6. 6. 6.]]\n",
            "(2, 3, 4)\n",
            "[[[2. 2. 2. 2.]\n",
            "  [2. 2. 2. 2.]\n",
            "  [2. 2. 2. 2.]]\n",
            "\n",
            " [[2. 2. 2. 2.]\n",
            "  [2. 2. 2. 2.]\n",
            "  [2. 2. 2. 2.]]]\n",
            "[[6. 6. 6. 6.]\n",
            " [6. 6. 6. 6.]]\n",
            "[ 0 22 76]\n"
          ]
        }
      ]
    },
    {
      "cell_type": "code",
      "source": [
        "# Step 1: Broadcasting\n",
        "A_broadcasted = A[:, np.newaxis]\n",
        "print(A_broadcasted)\n",
        "# Output:\n",
        "# array([[0],\n",
        "#        [1],\n",
        "#        [2]])\n",
        "\n",
        "# Step 2: Element-wise Multiplication\n",
        "product = A_broadcasted * B\n",
        "print(product)\n",
        "# Output:\n",
        "# array([[ 0,  0,  0,  0],\n",
        "#        [ 4,  5,  6,  7],\n",
        "#        [ 8,  9, 10, 11]])\n",
        "\n",
        "# Step 3: Summation\n",
        "result = product.sum(axis=1)\n",
        "print(result)\n",
        "# Output:\n",
        "# array([ 0, 22, 76])"
      ],
      "metadata": {
        "colab": {
          "base_uri": "https://localhost:8080/"
        },
        "id": "-gFSuYNA9ux9",
        "outputId": "fd1605a5-e2e9-4186-c84b-b060fef2b2ca"
      },
      "execution_count": 14,
      "outputs": [
        {
          "output_type": "stream",
          "name": "stdout",
          "text": [
            "[[0]\n",
            " [1]\n",
            " [2]]\n",
            "[[ 0  0  0  0]\n",
            " [ 4  5  6  7]\n",
            " [16 18 20 22]]\n",
            "[ 0 22 76]\n"
          ]
        }
      ]
    },
    {
      "cell_type": "code",
      "source": [
        "np.einsum('i,ij->i', A, B)\n",
        "array([ 0, 22, 76])"
      ],
      "metadata": {
        "colab": {
          "base_uri": "https://localhost:8080/",
          "height": 158
        },
        "id": "u3jKFEZw98pk",
        "outputId": "fc348618-cd82-4cba-ef3d-b44b4c0f82da"
      },
      "execution_count": 15,
      "outputs": [
        {
          "output_type": "error",
          "ename": "NameError",
          "evalue": "name 'array' is not defined",
          "traceback": [
            "\u001b[0;31m---------------------------------------------------------------------------\u001b[0m",
            "\u001b[0;31mNameError\u001b[0m                                 Traceback (most recent call last)",
            "\u001b[0;32m<ipython-input-15-74590b591273>\u001b[0m in \u001b[0;36m<cell line: 2>\u001b[0;34m()\u001b[0m\n\u001b[1;32m      1\u001b[0m \u001b[0mnp\u001b[0m\u001b[0;34m.\u001b[0m\u001b[0meinsum\u001b[0m\u001b[0;34m(\u001b[0m\u001b[0;34m'i,ij->i'\u001b[0m\u001b[0;34m,\u001b[0m \u001b[0mA\u001b[0m\u001b[0;34m,\u001b[0m \u001b[0mB\u001b[0m\u001b[0;34m)\u001b[0m\u001b[0;34m\u001b[0m\u001b[0;34m\u001b[0m\u001b[0m\n\u001b[0;32m----> 2\u001b[0;31m \u001b[0marray\u001b[0m\u001b[0;34m(\u001b[0m\u001b[0;34m[\u001b[0m \u001b[0;36m0\u001b[0m\u001b[0;34m,\u001b[0m \u001b[0;36m22\u001b[0m\u001b[0;34m,\u001b[0m \u001b[0;36m76\u001b[0m\u001b[0;34m]\u001b[0m\u001b[0;34m)\u001b[0m\u001b[0;34m\u001b[0m\u001b[0;34m\u001b[0m\u001b[0m\n\u001b[0m",
            "\u001b[0;31mNameError\u001b[0m: name 'array' is not defined"
          ]
        }
      ]
    },
    {
      "cell_type": "code",
      "source": [
        "import numpy as np\n",
        "\n",
        "A = np.array([0, 1, 2])\n",
        "B = np.array([[ 0,  1,  2,  3],\n",
        "              [ 4,  5,  6,  7],\n",
        "              [ 8,  9, 10, 11]])\n",
        "\n",
        "# Calculate the desired result using einsum\n",
        "result = np.einsum('i,ij->i', A, B)\n",
        "\n",
        "# Print the result\n",
        "print(result)"
      ],
      "metadata": {
        "colab": {
          "base_uri": "https://localhost:8080/"
        },
        "id": "W0YV-UIQ9_zl",
        "outputId": "9b576a8d-b495-41d8-be65-d26abd2ce7ff"
      },
      "execution_count": 16,
      "outputs": [
        {
          "output_type": "stream",
          "name": "stdout",
          "text": [
            "[ 0 22 76]\n"
          ]
        }
      ]
    },
    {
      "cell_type": "code",
      "source": [
        "A = np.array([[1, 1, 1],\n",
        "              [2, 2, 2],\n",
        "              [5, 5, 5]])\n",
        "\n",
        "B = np.array([[0, 1, 0],\n",
        "              [1, 1, 0],\n",
        "              [1, 1, 1]])"
      ],
      "metadata": {
        "id": "4KwMjQng-Ozc"
      },
      "execution_count": 17,
      "outputs": []
    },
    {
      "cell_type": "code",
      "source": [
        " a = np.ones(300, dtype=np.int8)"
      ],
      "metadata": {
        "id": "6gaGT7F5-Sxv"
      },
      "execution_count": 18,
      "outputs": []
    },
    {
      "cell_type": "code",
      "source": [
        "np.sum(a) # correct result"
      ],
      "metadata": {
        "colab": {
          "base_uri": "https://localhost:8080/"
        },
        "id": "FkYH3Qk2-Yh2",
        "outputId": "35af4a4d-3871-4d10-ab6c-d9f544d62fe2"
      },
      "execution_count": 19,
      "outputs": [
        {
          "output_type": "execute_result",
          "data": {
            "text/plain": [
              "300"
            ]
          },
          "metadata": {},
          "execution_count": 19
        }
      ]
    },
    {
      "cell_type": "code",
      "source": [
        "np.einsum('i->', a) # produces incorrect result"
      ],
      "metadata": {
        "colab": {
          "base_uri": "https://localhost:8080/"
        },
        "id": "unZlrQui-cmr",
        "outputId": "5c15b07e-3070-4582-e6ec-7ce8a974b01c"
      },
      "execution_count": 20,
      "outputs": [
        {
          "output_type": "execute_result",
          "data": {
            "text/plain": [
              "44"
            ]
          },
          "metadata": {},
          "execution_count": 20
        }
      ]
    },
    {
      "cell_type": "code",
      "source": [],
      "metadata": {
        "id": "wzY98WN3-gzQ"
      },
      "execution_count": null,
      "outputs": []
    }
  ]
}